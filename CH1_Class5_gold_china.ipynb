{
 "cells": [
  {
   "cell_type": "code",
   "execution_count": 1,
   "id": "52e2e3fe-e71f-42f7-8986-ce6f5daa7c36",
   "metadata": {
    "tags": []
   },
   "outputs": [
    {
     "name": "stdout",
     "output_type": "stream",
     "text": [
      "['Solarize_Light2', '_classic_test_patch', '_mpl-gallery', '_mpl-gallery-nogrid', 'bmh', 'classic', 'dark_background', 'fast', 'fivethirtyeight', 'ggplot', 'grayscale', 'seaborn', 'seaborn-bright', 'seaborn-colorblind', 'seaborn-dark', 'seaborn-dark-palette', 'seaborn-darkgrid', 'seaborn-deep', 'seaborn-muted', 'seaborn-notebook', 'seaborn-paper', 'seaborn-pastel', 'seaborn-poster', 'seaborn-talk', 'seaborn-ticks', 'seaborn-white', 'seaborn-whitegrid', 'tableau-colorblind10']\n"
     ]
    }
   ],
   "source": [
    "from selenium import webdriver\n",
    "from time import sleep\n",
    "import pandas as pd\n",
    "from io import StringIO\n",
    "from functools import partial\n",
    "import matplotlib.pyplot as plt\n",
    "from selenium.webdriver.support import expected_conditions as EC\n",
    "from selenium.common import NoSuchElementException\n",
    "from matplotlib import style\n",
    "\n",
    "print(plt.style.available)\n",
    "%matplotlib inline\n",
    "\n",
    "driver=webdriver.Edge()\n",
    "\n",
    "url='https://quote.cngold.org/gjs/swhj_zghj.html'\n",
    "driver.get(url)"
   ]
  },
  {
   "cell_type": "code",
   "execution_count": 2,
   "id": "99701335-daaa-423e-9b00-6c2d29596eb5",
   "metadata": {
    "tags": []
   },
   "outputs": [],
   "source": [
    "try:\n",
    "    next_page=driver.find_element('partial link text','下一页')\n",
    "    next_page.click()\n",
    "except NoSuchElementException:\n",
    "    print(\"Hello\")"
   ]
  },
  {
   "cell_type": "code",
   "execution_count": null,
   "id": "7d652a67-e1dc-48e9-a645-87379ce55fe0",
   "metadata": {
    "tags": []
   },
   "outputs": [],
   "source": [
    "string_list=[]\n",
    "\n",
    "i=0\n",
    "\n",
    "while i==0:\n",
    "    string=driver.find_element('id','goldTable').text\n",
    "    string_list.append(string)\n",
    "    #driver.refresh()\n",
    "    try:\n",
    "        next_page=driver.find_element('partial link text','下一页')\n",
    "        next_page.click()\n",
    "    except NoSuchElementException:\n",
    "        break\n",
    "    #sleep(3)"
   ]
  },
  {
   "cell_type": "code",
   "execution_count": null,
   "id": "2491d94f-70c6-4c9c-80cb-dc6616e4fe56",
   "metadata": {
    "tags": []
   },
   "outputs": [],
   "source": [
    "driver.quit()"
   ]
  },
  {
   "cell_type": "code",
   "execution_count": null,
   "id": "27abcef1-afa9-45da-88a0-4c2c916c7581",
   "metadata": {
    "tags": []
   },
   "outputs": [],
   "source": [
    "fun_read_csv=partial(pd.read_csv,sep=' ')"
   ]
  },
  {
   "cell_type": "code",
   "execution_count": null,
   "id": "0dcd3a43-504b-45e7-9b12-32f20087f4e8",
   "metadata": {
    "tags": []
   },
   "outputs": [],
   "source": [
    "io_list=map(StringIO,string_list)"
   ]
  },
  {
   "cell_type": "code",
   "execution_count": null,
   "id": "e97bd782-53a1-467f-82b6-15e8a2a78445",
   "metadata": {
    "tags": []
   },
   "outputs": [],
   "source": [
    "df_list=list(map(fun_read_csv,io_list))"
   ]
  },
  {
   "cell_type": "code",
   "execution_count": null,
   "id": "05a4e4f0-8e65-4591-a531-644c79e74038",
   "metadata": {
    "tags": []
   },
   "outputs": [],
   "source": [
    "df_gold=pd.concat(df_list)"
   ]
  },
  {
   "cell_type": "code",
   "execution_count": null,
   "id": "27a714c3-2208-4447-afd1-fe7454040caf",
   "metadata": {
    "tags": []
   },
   "outputs": [],
   "source": [
    "df_gold=df_gold.reset_index(drop=True)"
   ]
  },
  {
   "cell_type": "code",
   "execution_count": null,
   "id": "549958ea-f88c-45d1-81f3-aa0c99ce1ec9",
   "metadata": {
    "tags": []
   },
   "outputs": [],
   "source": [
    "df_gold"
   ]
  },
  {
   "cell_type": "code",
   "execution_count": 69,
   "id": "f74a3bc5-fea5-4bc3-a201-b5b2f8402aec",
   "metadata": {
    "tags": []
   },
   "outputs": [
    {
     "data": {
      "text/html": [
       "<div>\n",
       "<style scoped>\n",
       "    .dataframe tbody tr th:only-of-type {\n",
       "        vertical-align: middle;\n",
       "    }\n",
       "\n",
       "    .dataframe tbody tr th {\n",
       "        vertical-align: top;\n",
       "    }\n",
       "\n",
       "    .dataframe thead th {\n",
       "        text-align: right;\n",
       "    }\n",
       "</style>\n",
       "<table border=\"1\" class=\"dataframe\">\n",
       "  <thead>\n",
       "    <tr style=\"text-align: right;\">\n",
       "      <th></th>\n",
       "      <th>名称</th>\n",
       "      <th>价格</th>\n",
       "      <th>单位</th>\n",
       "      <th>纯度</th>\n",
       "      <th>手工费</th>\n",
       "      <th>涨跌</th>\n",
       "      <th>更新日期</th>\n",
       "    </tr>\n",
       "  </thead>\n",
       "  <tbody>\n",
       "    <tr>\n",
       "      <th>916</th>\n",
       "      <td>中国黄金基础金价</td>\n",
       "      <td>2781.0</td>\n",
       "      <td>元/克</td>\n",
       "      <td>99.9%</td>\n",
       "      <td>0</td>\n",
       "      <td>涨</td>\n",
       "      <td>2019-04-25</td>\n",
       "    </tr>\n",
       "    <tr>\n",
       "      <th>970</th>\n",
       "      <td>中国黄金基础金价</td>\n",
       "      <td>2860.0</td>\n",
       "      <td>元/克</td>\n",
       "      <td>99.9%</td>\n",
       "      <td>0</td>\n",
       "      <td>平</td>\n",
       "      <td>2019-01-29</td>\n",
       "    </tr>\n",
       "    <tr>\n",
       "      <th>971</th>\n",
       "      <td>中国黄金基础金价</td>\n",
       "      <td>2860.0</td>\n",
       "      <td>元/克</td>\n",
       "      <td>99.9%</td>\n",
       "      <td>0</td>\n",
       "      <td>平</td>\n",
       "      <td>2019-01-28</td>\n",
       "    </tr>\n",
       "    <tr>\n",
       "      <th>972</th>\n",
       "      <td>中国黄金基础金价</td>\n",
       "      <td>2860.0</td>\n",
       "      <td>元/克</td>\n",
       "      <td>99.9%</td>\n",
       "      <td>0</td>\n",
       "      <td>平</td>\n",
       "      <td>2019-01-25</td>\n",
       "    </tr>\n",
       "    <tr>\n",
       "      <th>973</th>\n",
       "      <td>中国黄金基础金价</td>\n",
       "      <td>2860.0</td>\n",
       "      <td>元/克</td>\n",
       "      <td>99.9%</td>\n",
       "      <td>0</td>\n",
       "      <td>平</td>\n",
       "      <td>2019-01-24</td>\n",
       "    </tr>\n",
       "    <tr>\n",
       "      <th>974</th>\n",
       "      <td>中国黄金基础金价</td>\n",
       "      <td>2860.0</td>\n",
       "      <td>元/克</td>\n",
       "      <td>99.9%</td>\n",
       "      <td>0</td>\n",
       "      <td>平</td>\n",
       "      <td>2019-01-23</td>\n",
       "    </tr>\n",
       "    <tr>\n",
       "      <th>975</th>\n",
       "      <td>中国黄金基础金价</td>\n",
       "      <td>2860.0</td>\n",
       "      <td>元/克</td>\n",
       "      <td>99.9%</td>\n",
       "      <td>0</td>\n",
       "      <td>平</td>\n",
       "      <td>2019-01-22</td>\n",
       "    </tr>\n",
       "    <tr>\n",
       "      <th>976</th>\n",
       "      <td>中国黄金基础金价</td>\n",
       "      <td>2860.0</td>\n",
       "      <td>元/克</td>\n",
       "      <td>99.9%</td>\n",
       "      <td>0</td>\n",
       "      <td>平</td>\n",
       "      <td>2019-01-21</td>\n",
       "    </tr>\n",
       "    <tr>\n",
       "      <th>977</th>\n",
       "      <td>中国黄金基础金价</td>\n",
       "      <td>2860.0</td>\n",
       "      <td>元/克</td>\n",
       "      <td>99.9%</td>\n",
       "      <td>0</td>\n",
       "      <td>平</td>\n",
       "      <td>2019-01-18</td>\n",
       "    </tr>\n",
       "    <tr>\n",
       "      <th>978</th>\n",
       "      <td>中国黄金基础金价</td>\n",
       "      <td>2860.0</td>\n",
       "      <td>元/克</td>\n",
       "      <td>99.9%</td>\n",
       "      <td>0</td>\n",
       "      <td>平</td>\n",
       "      <td>2019-01-17</td>\n",
       "    </tr>\n",
       "  </tbody>\n",
       "</table>\n",
       "</div>"
      ],
      "text/plain": [
       "           名称      价格   单位     纯度  手工费 涨跌        更新日期\n",
       "916  中国黄金基础金价  2781.0  元/克  99.9%    0  涨  2019-04-25\n",
       "970  中国黄金基础金价  2860.0  元/克  99.9%    0  平  2019-01-29\n",
       "971  中国黄金基础金价  2860.0  元/克  99.9%    0  平  2019-01-28\n",
       "972  中国黄金基础金价  2860.0  元/克  99.9%    0  平  2019-01-25\n",
       "973  中国黄金基础金价  2860.0  元/克  99.9%    0  平  2019-01-24\n",
       "974  中国黄金基础金价  2860.0  元/克  99.9%    0  平  2019-01-23\n",
       "975  中国黄金基础金价  2860.0  元/克  99.9%    0  平  2019-01-22\n",
       "976  中国黄金基础金价  2860.0  元/克  99.9%    0  平  2019-01-21\n",
       "977  中国黄金基础金价  2860.0  元/克  99.9%    0  平  2019-01-18\n",
       "978  中国黄金基础金价  2860.0  元/克  99.9%    0  平  2019-01-17"
      ]
     },
     "execution_count": 69,
     "metadata": {},
     "output_type": "execute_result"
    }
   ],
   "source": [
    "df_gold.query(\"价格>1000\")"
   ]
  },
  {
   "cell_type": "code",
   "execution_count": 80,
   "id": "90d9c6c3-33e8-41c7-ae2b-7b484c547305",
   "metadata": {
    "tags": []
   },
   "outputs": [],
   "source": [
    "df_gold['Price']=df_gold['价格']"
   ]
  },
  {
   "cell_type": "code",
   "execution_count": 81,
   "id": "57437fd9-8961-4aa0-a199-0bbd2e0a3041",
   "metadata": {
    "tags": []
   },
   "outputs": [],
   "source": [
    "df_gold['date']=pd.to_datetime(df_gold['更新日期'])"
   ]
  },
  {
   "cell_type": "code",
   "execution_count": 82,
   "id": "624e8049-ccb0-4a98-a6e7-2056515a801c",
   "metadata": {
    "tags": []
   },
   "outputs": [],
   "source": [
    "df_gold.loc[df_gold['Price']>1000,'Price']=df_gold['Price']/10"
   ]
  },
  {
   "cell_type": "code",
   "execution_count": 83,
   "id": "f210e991-7a09-4d1f-94df-8a863e569fb5",
   "metadata": {
    "tags": []
   },
   "outputs": [
    {
     "data": {
      "text/plain": [
       "count    2699.000000\n",
       "mean      308.881141\n",
       "std        57.492744\n",
       "min       218.000000\n",
       "25%       263.700000\n",
       "50%       284.200000\n",
       "75%       366.650000\n",
       "max       448.000000\n",
       "Name: Price, dtype: float64"
      ]
     },
     "execution_count": 83,
     "metadata": {},
     "output_type": "execute_result"
    }
   ],
   "source": [
    "df_gold['Price'].describe()"
   ]
  },
  {
   "cell_type": "code",
   "execution_count": 91,
   "id": "b5130ba6-7cba-4808-9b18-62bf244d4811",
   "metadata": {
    "tags": []
   },
   "outputs": [
    {
     "data": {
      "text/plain": [
       "[<matplotlib.lines.Line2D at 0x1a14bcd9430>]"
      ]
     },
     "execution_count": 91,
     "metadata": {},
     "output_type": "execute_result"
    },
    {
     "data": {
      "image/png": "[encoded data removed]",
      "text/plain": [
       "<Figure size 800x550 with 1 Axes>"
      ]
     },
     "metadata": {},
     "output_type": "display_data"
    }
   ],
   "source": [
    "plt.style.use('seaborn')\n",
    "fig,ax=plt.subplots()\n",
    "ax.plot(df_gold['date'],df_gold['Price'],lw=1)"
   ]
  },
  {
   "cell_type": "code",
   "execution_count": null,
   "id": "6242dabc-e4b4-4a51-b2ba-fd14351f2d5a",
   "metadata": {},
   "outputs": [],
   "source": []
  }
 ],
 "metadata": {
  "kernelspec": {
   "display_name": "Python 3 (ipykernel)",
   "language": "python",
   "name": "python3"
  },
  "language_info": {
   "codemirror_mode": {
    "name": "ipython",
    "version": 3
   },
   "file_extension": ".py",
   "mimetype": "text/x-python",
   "name": "python",
   "nbconvert_exporter": "python",
   "pygments_lexer": "ipython3",
   "version": "3.9.13"
  }
 },
 "nbformat": 4,
 "nbformat_minor": 5
}
