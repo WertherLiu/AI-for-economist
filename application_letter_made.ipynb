{
 "cells": [
  {
   "cell_type": "code",
   "execution_count": 1,
   "id": "5c62c6dd",
   "metadata": {},
   "outputs": [],
   "source": [
    "from docx import Document\n",
    "from docx.shared import Inches\n",
    "from mailmerge import MailMerge\n",
    "import win32com\n",
    "from win32com.client import Dispatch, constants\n",
    "import os\n",
    "import pandas as pd\n",
    "import numpy as np\n",
    "from openpyxl import load_workbook\n",
    "from docx import Document\n",
    "from docxtpl import DocxTemplate"
   ]
  },
  {
   "cell_type": "code",
   "execution_count": 2,
   "id": "32128a1b",
   "metadata": {},
   "outputs": [
    {
     "data": {
      "text/html": [
       "<div>\n",
       "<style scoped>\n",
       "    .dataframe tbody tr th:only-of-type {\n",
       "        vertical-align: middle;\n",
       "    }\n",
       "\n",
       "    .dataframe tbody tr th {\n",
       "        vertical-align: top;\n",
       "    }\n",
       "\n",
       "    .dataframe thead th {\n",
       "        text-align: right;\n",
       "    }\n",
       "</style>\n",
       "<table border=\"1\" class=\"dataframe\">\n",
       "  <thead>\n",
       "    <tr style=\"text-align: right;\">\n",
       "      <th></th>\n",
       "      <th>Department</th>\n",
       "      <th>University</th>\n",
       "    </tr>\n",
       "  </thead>\n",
       "  <tbody>\n",
       "    <tr>\n",
       "      <th>0</th>\n",
       "      <td>Department of Economics</td>\n",
       "      <td>Harvard University</td>\n",
       "    </tr>\n",
       "    <tr>\n",
       "      <th>1</th>\n",
       "      <td>Department of Economics</td>\n",
       "      <td>Massachusetts Institute of Technology (MIT)</td>\n",
       "    </tr>\n",
       "    <tr>\n",
       "      <th>2</th>\n",
       "      <td>Department of Economics</td>\n",
       "      <td>University of Chicago</td>\n",
       "    </tr>\n",
       "    <tr>\n",
       "      <th>3</th>\n",
       "      <td>Department of Economics</td>\n",
       "      <td>Stanford University</td>\n",
       "    </tr>\n",
       "    <tr>\n",
       "      <th>4</th>\n",
       "      <td>Department of Economics</td>\n",
       "      <td>Princeton University</td>\n",
       "    </tr>\n",
       "  </tbody>\n",
       "</table>\n",
       "</div>"
      ],
      "text/plain": [
       "                Department                                    University\n",
       "0  Department of Economics                            Harvard University\n",
       "1  Department of Economics   Massachusetts Institute of Technology (MIT)\n",
       "2  Department of Economics                         University of Chicago\n",
       "3  Department of Economics                           Stanford University\n",
       "4  Department of Economics                          Princeton University"
      ]
     },
     "execution_count": 2,
     "metadata": {},
     "output_type": "execute_result"
    }
   ],
   "source": [
    "data=pd.read_csv('univ.txt')\n",
    "data.head(5)\n",
    "#读入原始数据"
   ]
  },
  {
   "cell_type": "code",
   "execution_count": 24,
   "id": "0f1cd84b",
   "metadata": {},
   "outputs": [],
   "source": [
    "list = [\"economics department\", \"business school\", \"statistics department\",\n",
    "       \"mathematics deparment\", \"school of public policy\"]\n",
    "\n",
    "# 生成单份申请信\n",
    "def GenerateCertify(templateName, newName, department, university):\n",
    "    # 打开模板\n",
    "    document = MailMerge(templateName)\n",
    "\n",
    "    # 替换内容\n",
    "    document.merge(Department=department,\n",
    "                   University=university)\n",
    "\n",
    "    # 保存文件\n",
    "    document.write(newName)\n",
    "\n",
    "    #生成Pdf文件\n",
    "def funGeneratePDF(newName):\n",
    "    word = Dispatch(\"Word.Application\")\n",
    "    word.Visible = 0  # 后台运行，不显示\n",
    "    word.DisplayAlerts = 0  # 不警告\n",
    "    doc = word.Documents.Open(newName)  # 打开word文件\n",
    "    doc.SaveAs(\"{}.pdf\".format(newName[:-5]), 17) \n",
    "    doc.Close()\n",
    "    word.Quit()\n",
    " \n",
    "if __name__ == \"__main__\":\n",
    "    templateName = 'Application_Letter.docx'\n",
    "\n",
    "    # 开始生成\n",
    "    for i in list:\n",
    "        for j in data['University']:\n",
    "            newName = f'./{i}_{j}.docx'\n",
    "            GenerateCertify(templateName,newName,i,j)\n",
    "            #funGeneratePDF(newName)\n"
   ]
  },
  {
   "cell_type": "code",
   "execution_count": null,
   "id": "d75997fa",
   "metadata": {},
   "outputs": [],
   "source": []
  }
 ],
 "metadata": {
  "kernelspec": {
   "display_name": "Python 3 (ipykernel)",
   "language": "python",
   "name": "python3"
  },
  "language_info": {
   "codemirror_mode": {
    "name": "ipython",
    "version": 3
   },
   "file_extension": ".py",
   "mimetype": "text/x-python",
   "name": "python",
   "nbconvert_exporter": "python",
   "pygments_lexer": "ipython3",
   "version": "3.9.13"
  }
 },
 "nbformat": 4,
 "nbformat_minor": 5
}
